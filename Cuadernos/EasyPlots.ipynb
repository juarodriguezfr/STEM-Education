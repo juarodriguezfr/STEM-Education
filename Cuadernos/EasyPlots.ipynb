{
  "nbformat": 4,
  "nbformat_minor": 0,
  "metadata": {
    "colab": {
      "provenance": []
    },
    "kernelspec": {
      "name": "python3",
      "display_name": "Python 3"
    },
    "language_info": {
      "name": "python"
    },
    "widgets": {
      "application/vnd.jupyter.widget-state+json": {
        "7c4d22034883418899d469044f9431b4": {
          "model_module": "@jupyter-widgets/output",
          "model_name": "OutputModel",
          "model_module_version": "1.0.0",
          "state": {
            "_dom_classes": [],
            "_model_module": "@jupyter-widgets/output",
            "_model_module_version": "1.0.0",
            "_model_name": "OutputModel",
            "_view_count": null,
            "_view_module": "@jupyter-widgets/output",
            "_view_module_version": "1.0.0",
            "_view_name": "OutputView",
            "layout": "IPY_MODEL_3a00dce117d648709aa4a09d8903d2b8",
            "msg_id": "",
            "outputs": [
              {
                "output_type": "display_data",
                "data": {
                  "text/plain": "      X     Y\n0   1.0   2.0\n1   2.0   3.0\n2   3.0   4.0\n3   4.0   5.0\n4   5.0   6.0\n5   6.0   7.0\n6   7.0   8.0\n7   8.0   9.0\n8   9.0  10.0\n9  10.0  11.0",
                  "text/html": "\n  <div id=\"df-ca5acf33-5b9c-4b72-a200-9a5284b0a691\">\n    <div class=\"colab-df-container\">\n      <div>\n<style scoped>\n    .dataframe tbody tr th:only-of-type {\n        vertical-align: middle;\n    }\n\n    .dataframe tbody tr th {\n        vertical-align: top;\n    }\n\n    .dataframe thead th {\n        text-align: right;\n    }\n</style>\n<table border=\"1\" class=\"dataframe\">\n  <thead>\n    <tr style=\"text-align: right;\">\n      <th></th>\n      <th>X</th>\n      <th>Y</th>\n    </tr>\n  </thead>\n  <tbody>\n    <tr>\n      <th>0</th>\n      <td>1.0</td>\n      <td>2.0</td>\n    </tr>\n    <tr>\n      <th>1</th>\n      <td>2.0</td>\n      <td>3.0</td>\n    </tr>\n    <tr>\n      <th>2</th>\n      <td>3.0</td>\n      <td>4.0</td>\n    </tr>\n    <tr>\n      <th>3</th>\n      <td>4.0</td>\n      <td>5.0</td>\n    </tr>\n    <tr>\n      <th>4</th>\n      <td>5.0</td>\n      <td>6.0</td>\n    </tr>\n    <tr>\n      <th>5</th>\n      <td>6.0</td>\n      <td>7.0</td>\n    </tr>\n    <tr>\n      <th>6</th>\n      <td>7.0</td>\n      <td>8.0</td>\n    </tr>\n    <tr>\n      <th>7</th>\n      <td>8.0</td>\n      <td>9.0</td>\n    </tr>\n    <tr>\n      <th>8</th>\n      <td>9.0</td>\n      <td>10.0</td>\n    </tr>\n    <tr>\n      <th>9</th>\n      <td>10.0</td>\n      <td>11.0</td>\n    </tr>\n  </tbody>\n</table>\n</div>\n      <button class=\"colab-df-convert\" onclick=\"convertToInteractive('df-ca5acf33-5b9c-4b72-a200-9a5284b0a691')\"\n              title=\"Convert this dataframe to an interactive table.\"\n              style=\"display:none;\">\n        \n  <svg xmlns=\"http://www.w3.org/2000/svg\" height=\"24px\"viewBox=\"0 0 24 24\"\n       width=\"24px\">\n    <path d=\"M0 0h24v24H0V0z\" fill=\"none\"/>\n    <path d=\"M18.56 5.44l.94 2.06.94-2.06 2.06-.94-2.06-.94-.94-2.06-.94 2.06-2.06.94zm-11 1L8.5 8.5l.94-2.06 2.06-.94-2.06-.94L8.5 2.5l-.94 2.06-2.06.94zm10 10l.94 2.06.94-2.06 2.06-.94-2.06-.94-.94-2.06-.94 2.06-2.06.94z\"/><path d=\"M17.41 7.96l-1.37-1.37c-.4-.4-.92-.59-1.43-.59-.52 0-1.04.2-1.43.59L10.3 9.45l-7.72 7.72c-.78.78-.78 2.05 0 2.83L4 21.41c.39.39.9.59 1.41.59.51 0 1.02-.2 1.41-.59l7.78-7.78 2.81-2.81c.8-.78.8-2.07 0-2.86zM5.41 20L4 18.59l7.72-7.72 1.47 1.35L5.41 20z\"/>\n  </svg>\n      </button>\n      \n  <style>\n    .colab-df-container {\n      display:flex;\n      flex-wrap:wrap;\n      gap: 12px;\n    }\n\n    .colab-df-convert {\n      background-color: #E8F0FE;\n      border: none;\n      border-radius: 50%;\n      cursor: pointer;\n      display: none;\n      fill: #1967D2;\n      height: 32px;\n      padding: 0 0 0 0;\n      width: 32px;\n    }\n\n    .colab-df-convert:hover {\n      background-color: #E2EBFA;\n      box-shadow: 0px 1px 2px rgba(60, 64, 67, 0.3), 0px 1px 3px 1px rgba(60, 64, 67, 0.15);\n      fill: #174EA6;\n    }\n\n    [theme=dark] .colab-df-convert {\n      background-color: #3B4455;\n      fill: #D2E3FC;\n    }\n\n    [theme=dark] .colab-df-convert:hover {\n      background-color: #434B5C;\n      box-shadow: 0px 1px 3px 1px rgba(0, 0, 0, 0.15);\n      filter: drop-shadow(0px 1px 2px rgba(0, 0, 0, 0.3));\n      fill: #FFFFFF;\n    }\n  </style>\n\n      <script>\n        const buttonEl =\n          document.querySelector('#df-ca5acf33-5b9c-4b72-a200-9a5284b0a691 button.colab-df-convert');\n        buttonEl.style.display =\n          google.colab.kernel.accessAllowed ? 'block' : 'none';\n\n        async function convertToInteractive(key) {\n          const element = document.querySelector('#df-ca5acf33-5b9c-4b72-a200-9a5284b0a691');\n          const dataTable =\n            await google.colab.kernel.invokeFunction('convertToInteractive',\n                                                     [key], {});\n          if (!dataTable) return;\n\n          const docLinkHtml = 'Like what you see? Visit the ' +\n            '<a target=\"_blank\" href=https://colab.research.google.com/notebooks/data_table.ipynb>data table notebook</a>'\n            + ' to learn more about interactive tables.';\n          element.innerHTML = '';\n          dataTable['output_type'] = 'display_data';\n          await google.colab.output.renderOutput(dataTable, element);\n          const docLink = document.createElement('div');\n          docLink.innerHTML = docLinkHtml;\n          element.appendChild(docLink);\n        }\n      </script>\n    </div>\n  </div>\n  "
                },
                "metadata": {}
              }
            ]
          }
        },
        "3a00dce117d648709aa4a09d8903d2b8": {
          "model_module": "@jupyter-widgets/base",
          "model_name": "LayoutModel",
          "model_module_version": "1.2.0",
          "state": {
            "_model_module": "@jupyter-widgets/base",
            "_model_module_version": "1.2.0",
            "_model_name": "LayoutModel",
            "_view_count": null,
            "_view_module": "@jupyter-widgets/base",
            "_view_module_version": "1.2.0",
            "_view_name": "LayoutView",
            "align_content": null,
            "align_items": null,
            "align_self": null,
            "border": null,
            "bottom": null,
            "display": null,
            "flex": null,
            "flex_flow": null,
            "grid_area": null,
            "grid_auto_columns": null,
            "grid_auto_flow": null,
            "grid_auto_rows": null,
            "grid_column": null,
            "grid_gap": null,
            "grid_row": null,
            "grid_template_areas": null,
            "grid_template_columns": null,
            "grid_template_rows": null,
            "height": null,
            "justify_content": null,
            "justify_items": null,
            "left": null,
            "margin": null,
            "max_height": null,
            "max_width": null,
            "min_height": null,
            "min_width": null,
            "object_fit": null,
            "object_position": null,
            "order": null,
            "overflow": null,
            "overflow_x": null,
            "overflow_y": null,
            "padding": null,
            "right": null,
            "top": null,
            "visibility": null,
            "width": null
          }
        }
      }
    }
  },
  "cells": [
    {
      "cell_type": "markdown",
      "source": [
        "<div class=\"clearfix\" style=\"padding: 5px; height: 10px; padding-left: 0px\"><img src=\"https://github.com/juarodriguezfr/STEM-Education/blob/main/Logos/Logo%20Transparent.png?raw=1\" class=\"pull-left\" style=\"display: block; height: 10px; margin: 0;\" width=\"200\"></div>\n",
        "\n",
        "<a href=\"https://colab.research.google.com/drive/1ZDX3BE0xcwrwg2tDZX35na627OWPukrd?usp=sharing\" target=\"_parent\"><img src=\"https://colab.research.google.com/assets/colab-badge.svg\" alt=\"Open In Colab\"/></a>\n",
        "\n",
        "\n",
        "<a href=\"https://notebooks.gesis.org/binder/jupyter/user/juarodriguezfr-stem-education-hrejkkuf/doc/tree/Cuadernos/EasyPlots.ipynb\" target=\"_parent\"><img src=\"https://camo.githubusercontent.com/581c077bdbc6ca6899c86d0acc6145ae85e9d80e6f805a1071793dbe48917982/68747470733a2f2f6d7962696e6465722e6f72672f62616467655f6c6f676f2e737667\" alt=\"Open In Binder\"/></a>\n",
        "\n",
        "<a href=\"https://nbviewer.org/github/juarodriguezfr/STEM-Education/blob/main/Cuadernos/EasyPlots.ipynb\" target=\"_parent\"><img src=\"https://camo.githubusercontent.com/c45f3816fe3efb095a64468c409bfbd40e971a85fdcc85fc101ee6aaa8943b10/68747470733a2f2f696d672e736869656c64732e696f2f62616467652f72656e6465722d6e627669657765722d6f72616e67652e7376673f636f6c6f72423d66333736323626636f6c6f72413d346434643464\" alt=\"Open In nbviewer\"/></a>\n",
        "\n",
        "<a href=\"https://github.dev/juarodriguezfr/STEM-Education/blob/main/Cuadernos/EasyPlots.ipynb\" target=\"_parent\"><img src=\"https://camo.githubusercontent.com/f6d50128cb007f85916b7a899da5d94f654dce35a37331c8d28573aef46f4274/68747470733a2f2f696d672e736869656c64732e696f2f62616467652f6769746875622d2532333132313031312e7376673f7374796c653d666f722d7468652d6261646765266c6f676f3d676974687562266c6f676f436f6c6f723d7768697465\" alt=\"Open In nbviewer\"/></a>\n",
        "\n"
      ],
      "metadata": {
        "id": "KTbgC4Qn9lcK"
      }
    },
    {
      "cell_type": "markdown",
      "source": [
        "# <center> Gráficas sencillas con `python` </center>"
      ],
      "metadata": {
        "id": "kWGRecxjIaJ2"
      }
    },
    {
      "cell_type": "markdown",
      "source": [
        "## <center> Notebook práctico </center>"
      ],
      "metadata": {
        "id": "rNHRPuNsIhqj"
      }
    },
    {
      "cell_type": "markdown",
      "source": [
        "\n",
        "<center>\n",
        "  <div style=\"text-align:center\">\n",
        "    <a href=https://github.com/juarodriguezfr \" target=\"_blank\">Judol Alejandro Rodríguez Franco</a><br/>\n",
        "    <em>Universidad Nacional De Colombia</em><br/>\n",
        "    Observatorio Astronómico Nacional<br/>\n",
        "    Facultad de Ciencias Físicas<br/>\n",
        "    <code>(juarodriguezfr@unal.edu.co)</code><br/><br/>\n",
        "</center>\n",
        "\n",
        "---\n",
        "### <center> Resumen </center>\n",
        "\n",
        "<center> Manejar python de la noche a la mañana no es sencillo, mucho menos para hacer gráficas con datos de un laboratorio o cosas por el estilo; es por eso que hemos creado este cuaderno para que lo puedas usar como recurso para generar rápidamente gráficas bonitas y útiles. Recuerda que puedes subir este documento a drive y ejecutarlo usando Google Colab, Jupyter o Binder</center>\n",
        "\n",
        "---\n"
      ],
      "metadata": {
        "id": "HYvN5YCw-RDx"
      }
    },
    {
      "cell_type": "markdown",
      "source": [
        "Así que eres novat@ en esto de python... sólo quieres un método 'rápido' para hacer gráficas bonitas para tu laboratorio y crees que las gráficas de excel no son suficientes para lo que quieres. Bueno, el propósito de este cuaderno es que lo logres mientras vas familiarizandote con python y decides si es más fácil, difícil, bonito, práctico o como sea; lo importante es explorar nuevas herramientas ¿Verdad?"
      ],
      "metadata": {
        "id": "7V_WYIGfon38"
      }
    },
    {
      "cell_type": "markdown",
      "source": [
        "### Preparando las herramientas"
      ],
      "metadata": {
        "id": "4h_95O8D06CF"
      }
    },
    {
      "cell_type": "markdown",
      "source": [
        "Python es un lenguaje de programación ampliamente utilizado y fácil de aprender puesto que esta diseñado para ser lo más intuitivo posible para darle ordenes al computador a traves de instrucciones.\n",
        "\n",
        "Por otro lado, los notebooks de Jupyter como este, son herramientas que te permiten crear y compartir documentos interactivos llamados \"cuadernos\". Los cuadernos de Jupyter son muy útiles para combinar código, texto explicativo y resultados visuales, lo que los convierte en una excelente opción para enseñar y aprender Python. Cada vez que necesites ejecutar un código sólo tienes que oprimir el botón play ▶ a la izquierda de cada sección de código.\n",
        "\n",
        "Como ejemplo, tenemos la siguiente seccion en donde se importan las herramientas de python que usaremos para leer datos y generar gráficos. Cualquier herramienta en un código de python la encontraras precedida por la instrucción `import`.. Tambien hay secciones de código que son comentarios y no afectan el funcionamiento, estas se encuentran en verde precedidas por el símbolo `#`.\n",
        "\n",
        "Comienza dándole play:"
      ],
      "metadata": {
        "id": "ApDOjglh1BIo"
      }
    },
    {
      "cell_type": "code",
      "source": [
        "#Preparamos las herramientas necesarias para trabajar\n",
        "\n",
        "import numpy as np #Para hacer cálculos\n",
        "import scipy  #Para hacer más cálculos\n",
        "import matplotlib.pyplot as plt #para hacer gráficas\n",
        "import pandas as pd #Para usar tablas\n",
        "import ipywidgets as widgets #Para que las tablas sean interactivas\n",
        "from IPython.display import display #Para mostrar las tablas más bonitas"
      ],
      "metadata": {
        "id": "aHLpX9uooovj"
      },
      "execution_count": 1,
      "outputs": []
    },
    {
      "cell_type": "markdown",
      "source": [
        "### Ingresando los datos"
      ],
      "metadata": {
        "id": "xXJBFIJX3nU4"
      }
    },
    {
      "cell_type": "markdown",
      "source": [
        "El propósito de este cuaderno es que puedas usar python sin necesidad de entenderlo al detalle, pues la idea es familiarizarte con el mismo. A continuación hay una sección de código que simplemente recibira varios pares de datos hasta que termines, en ese caso das enter sin ingresar nada."
      ],
      "metadata": {
        "id": "jsgE9q_P3quC"
      }
    },
    {
      "cell_type": "code",
      "source": [
        "#Creamos \"Casillas vacías\" listas para ser llenadas con pares de datos x,y\n",
        "datos = []\n",
        "\n",
        "#Ahora, tu trabajo sólo es poner las parejas de datos, no olvides usar el punto como separador decimal\n",
        "print(\"Ingresa los datos en el formato x,y. Presiona Enter para finalizar.\")\n",
        "while True:\n",
        "  entrada = input(\"Datos: \")\n",
        "  if entrada == \"\":\n",
        "    break\n",
        "  try:\n",
        "    x, y = map(float, entrada.split(\",\"))\n",
        "    datos.append((x, y))\n",
        "  except ValueError:\n",
        "    print(\"Entrada inválida. Ingresa los datos en el formato x,y.\")"
      ],
      "metadata": {
        "id": "x9pZzvj1pT-v",
        "colab": {
          "base_uri": "https://localhost:8080/"
        },
        "outputId": "eaae9341-f051-4a90-9b58-b319c38187df"
      },
      "execution_count": null,
      "outputs": [
        {
          "name": "stdout",
          "output_type": "stream",
          "text": [
            "Ingresa los datos en el formato x,y. Presiona Enter para finalizar.\n",
            "Datos: 1,2\n",
            "Datos: 2,3\n",
            "Datos: 3,4\n",
            "Datos: 4,5\n",
            "Datos: 5,6\n",
            "Datos: 6,7\n",
            "Datos: 7,8\n",
            "Datos: 8,9\n",
            "Datos: 9,10\n",
            "Datos: 10,23\n",
            "Datos: \n"
          ]
        }
      ]
    },
    {
      "cell_type": "markdown",
      "source": [
        "Una vez ingresados los datos, puede que se vean feos o no sepas si los ingresaste correctamente, para ello se utiliza una herramienta llamada `pandas` que es como excel con esteroides para nosotros los programadores, puesto que permite manipular gigantescas tablas de datos muy rapidamente. En este caso sólo lo usaremos para que veas tus datos en el formato familiar de tabla:"
      ],
      "metadata": {
        "id": "kvtIIa2_4Vxw"
      }
    },
    {
      "cell_type": "code",
      "source": [
        "import ipywidgets as widgets\n",
        "from IPython.display import display\n",
        "\n",
        "# Crear un DataFrame a partir de la lista de datos\n",
        "df = pd.DataFrame(datos)\n",
        "\n",
        "# Asignar nombres personalizados a las columnas\n",
        "df.columns = ['X', 'Y']\n",
        "\n",
        "# Crear una tabla interactiva utilizando ipywidgets\n",
        "tabla_interactiva = widgets.Output()\n",
        "with tabla_interactiva:\n",
        "    display(df)\n",
        "\n",
        "# Visualizar la tabla interactiva\n",
        "print(\"\\nTabla de datos:\")\n",
        "display(tabla_interactiva)"
      ],
      "metadata": {
        "colab": {
          "base_uri": "https://localhost:8080/",
          "height": 398,
          "referenced_widgets": [
            "7c4d22034883418899d469044f9431b4",
            "3a00dce117d648709aa4a09d8903d2b8"
          ]
        },
        "id": "AnDbq2zlyAV-",
        "outputId": "09493944-2e42-4c41-f75b-af3ac2c4f058"
      },
      "execution_count": null,
      "outputs": [
        {
          "output_type": "stream",
          "name": "stdout",
          "text": [
            "\n",
            "Tabla de datos:\n"
          ]
        },
        {
          "output_type": "display_data",
          "data": {
            "text/plain": [
              "Output()"
            ],
            "application/vnd.jupyter.widget-view+json": {
              "version_major": 2,
              "version_minor": 0,
              "model_id": "7c4d22034883418899d469044f9431b4"
            }
          },
          "metadata": {}
        }
      ]
    },
    {
      "cell_type": "markdown",
      "source": [
        "¿cometiste algún error? No hay problema, a continuación podrás escoger la fila en la que se encuentra el error, modificar el dato y corregir tu tabla:"
      ],
      "metadata": {
        "id": "wwbVsahr5J8D"
      }
    },
    {
      "cell_type": "code",
      "source": [
        "# Permitir la edición de los datos\n",
        "while True:\n",
        "    opcion = input(\"\\n¿Deseas editar algún dato? (S/N): \")\n",
        "    if opcion.lower() == 'n':\n",
        "        break\n",
        "    elif opcion.lower() == 's':\n",
        "        fila = int(input(\"Ingresa el número de fila a editar (empezando desde 0): \"))\n",
        "        columna = input(\"Ingresa la columna a editar (X/Y): \")\n",
        "        if columna.upper() not in ['X', 'Y']:\n",
        "            print(\"Columna inválida. Por favor, ingresa 'X' o 'Y'.\")\n",
        "            continue\n",
        "        valor = input(\"Ingresa el nuevo valor: \")\n",
        "        try:\n",
        "            df.at[fila, columna.upper()] = float(valor)\n",
        "            tabla_interactiva.clear_output()\n",
        "            with tabla_interactiva:\n",
        "                display(df)\n",
        "            print(\"\\nTabla de datos actualizada:\")\n",
        "            display(tabla_interactiva)\n",
        "        except ValueError:\n",
        "            print(\"Valor inválido. Por favor, ingresa un número.\")\n",
        "    else:\n",
        "        print(\"Opción inválida. Por favor, ingresa 'S' o 'N'.\")"
      ],
      "metadata": {
        "colab": {
          "base_uri": "https://localhost:8080/",
          "height": 519,
          "referenced_widgets": [
            "7c4d22034883418899d469044f9431b4",
            "3a00dce117d648709aa4a09d8903d2b8"
          ]
        },
        "id": "pdnpEO0xxVFM",
        "outputId": "7e70ef59-29c4-4be2-e808-4bf21b05e21b"
      },
      "execution_count": null,
      "outputs": [
        {
          "output_type": "stream",
          "name": "stdout",
          "text": [
            "\n",
            "¿Deseas editar algún dato? (S/N): s\n",
            "Ingresa el número de fila a editar (empezando desde 0): 9\n",
            "Ingresa la columna a editar (X/Y): Y\n",
            "Ingresa el nuevo valor: 11\n",
            "\n",
            "Tabla de datos actualizada:\n"
          ]
        },
        {
          "output_type": "display_data",
          "data": {
            "text/plain": [
              "Output()"
            ],
            "application/vnd.jupyter.widget-view+json": {
              "version_major": 2,
              "version_minor": 0,
              "model_id": "7c4d22034883418899d469044f9431b4"
            }
          },
          "metadata": {}
        },
        {
          "name": "stdout",
          "output_type": "stream",
          "text": [
            "\n",
            "¿Deseas editar algún dato? (S/N): n\n"
          ]
        }
      ]
    },
    {
      "cell_type": "markdown",
      "source": [
        "ahora si, ¿los datos están correctos? entonces ejecuta la siguiente linea para que las correcciones de la tabla se guarden en nuestro arreglo o lista de datos\n"
      ],
      "metadata": {
        "id": "tDLZwMcg5Zu9"
      }
    },
    {
      "cell_type": "code",
      "source": [
        "# Convertir el DataFrame a una lista de tuplas\n",
        "datos = df.to_records(index=False).tolist()\n",
        "\n",
        "# Mostrar los datos actualizados\n",
        "print(\"\\nDatos actualizados\")\n",
        "#for dato in datos:\n",
        "#    print(dato)\n"
      ],
      "metadata": {
        "colab": {
          "base_uri": "https://localhost:8080/"
        },
        "id": "n2X7jTJ2z8B_",
        "outputId": "d4db864f-3084-4496-c3b0-1c0c8e885003"
      },
      "execution_count": null,
      "outputs": [
        {
          "output_type": "stream",
          "name": "stdout",
          "text": [
            "\n",
            "Datos actualizados\n"
          ]
        }
      ]
    },
    {
      "cell_type": "markdown",
      "source": [
        "### Gráfica de datos"
      ],
      "metadata": {
        "id": "zFZvSp-F571o"
      }
    },
    {
      "cell_type": "markdown",
      "source": [
        "¡Tenemos todo listo! A partir de aquí puedes personalizar los detalles de la gráfica tales como el título, las unidades e incluso usar caracteres matemáticos tipo `LaTeX`, los cuales siempre aparesen entre los símbolos $$, un ejemplo es:\n",
        "\n",
        "`$\\phi$`=$\\phi$\n",
        "\n",
        "De aquí en adelante puedes comenzar a explorar, esperamos que esta sencilla plantilla te ayude a salir de más de un apuro. Para terminar te dejamos una lista de referencias que te pueden ser de mucha utilidad si quieres continuar aprendiendo sobre python."
      ],
      "metadata": {
        "id": "ImZ8I761Xgu7"
      }
    },
    {
      "cell_type": "code",
      "source": [
        "# Separar los datos en una lista x y una lista y\n",
        "datos_x = [d[0] for d in datos]\n",
        "datos_y = [d[1] for d in datos]\n",
        "\n",
        "# Crear una figura y un conjunto de ejes\n",
        "fig, ax = plt.subplots()\n",
        "\n",
        "# Graficar los datos, usa 'o' para puntos y '-' para líneas\n",
        "ax.plot(datos_x, datos_y, 'o', label='Datos Experimentales')\n",
        "\n",
        "# Agregar etiquetas y título\n",
        "ax.set_xlabel(r'Unidades del eje x $[J \\cdot s^-1]$')\n",
        "ax.set_ylabel(r'Unidades del eje y $[m/s^2]$')\n",
        "ax.set_title(r'Gráfica de Datos $f(x)=y$')\n",
        "\n",
        "# Agregar una leyenda (cajita que indica qué son los datos)\n",
        "ax.legend()\n",
        "\n",
        "#Agrega el grid o red\n",
        "ax.grid()\n",
        "\n",
        "# Mostrar la gráfica\n",
        "plt.show()"
      ],
      "metadata": {
        "colab": {
          "base_uri": "https://localhost:8080/",
          "height": 479
        },
        "id": "ujPku98sqRKd",
        "outputId": "03e2aa37-5e6c-43d9-eb17-d122ce810fc7"
      },
      "execution_count": null,
      "outputs": [
        {
          "output_type": "display_data",
          "data": {
            "text/plain": [
              "<Figure size 640x480 with 1 Axes>"
            ],
            "image/png": "[encoded data removed]"
          },
          "metadata": {}
        }
      ]
    },
    {
      "cell_type": "markdown",
      "source": [
        "Eso es todo por el momento. Si te fué de utilidad sería lo máximo que nos dejes una opinión, sugerencia o comentario; al igual te agradeceríamos si visitas y sigues nuestras redes sociales:\n",
        "\n",
        "* Website: [https://stemeducationcol.com/](https://stemeducationcol.com/)\n",
        "* Facebook: [STEMEducationCol](https://www.facebook.com/STEMEducationCol)\n",
        "* Instagram: [@stem_teachers](https://www.instagram.com/stem_teachers/)\n",
        "\n",
        "si necesitas ayuda contáctanos directamente al *+57 3194127410*\n",
        "\n",
        "Recuerda que somos `STEM Teachers`, nuestra pasión es enseñar."
      ],
      "metadata": {
        "id": "0dbP5Eyd7QwK"
      }
    },
    {
      "cell_type": "markdown",
      "source": [
        "###Referencias\n",
        "\n",
        "1.   Tutoriales\n",
        "\n",
        "  *   https://www.learnpython.org\n",
        "  *   https://www.geeksforgeeks.org/python-programming-language/?ref=lbp\n",
        "  *   https://argentinaenpython.com/quiero-aprender-python/TutorialPython3.pdf\n",
        "  *   https://www.youtube.com/playlist?list=PLU8oAlHdN5BlvPxziopYZRd55pdqFwkeS\n",
        "  *   https://www.freecodecamp.org/learn/scientific-computing-with-python/#python-for-everybody\n",
        "\n",
        "2.   Cheat Sheets\n",
        "\n",
        "  *   https://www.pythoncheatsheet.org/\n",
        "  *   https://betterprogramming.pub/10-must-have-python-cheatsheets-2b74e8097bc3\n",
        "\n",
        "3. Documentación\n",
        "  *   [*Python 3.10.6 documentation*](https://docs.python.org/3/)\n",
        "  *   https://www.geeksforgeeks.org/global-local-variables-python/"
      ],
      "metadata": {
        "id": "sZO-IaG_8-Nn"
      }
    }
  ]
}