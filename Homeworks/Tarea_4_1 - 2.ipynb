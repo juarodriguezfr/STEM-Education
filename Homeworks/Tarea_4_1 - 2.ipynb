{
 "cells": [
  {
   "cell_type": "markdown",
   "metadata": {
    "id": "xuz7W8vNJKqS"
   },
   "source": [
    "<figure>\n",
    "<img src=\"https://github.com/juarodriguezfr/STEM-Education/blob/main/Logos/Logo%20Transparent.png?raw=1\"  width=\"187.5\" height=\"150\" align=\"left\"/>\n",
    "</figure>"
   ]
  },
  {
   "cell_type": "markdown",
   "metadata": {
    "id": "E2Hg2qb99c_L"
   },
   "source": [
    "# <center> <span style=\"color:red;\">Diplomado en Ciencia de Datos</span></center>\n"
   ]
  },
  {
   "cell_type": "markdown",
   "metadata": {
    "id": "99Yv0pkv9c8U"
   },
   "source": [
    "## <center> <span style=\"color:green;\">Tarea 4: Estadística y clases en `python` </span></center>\n"
   ]
  },
  {
   "cell_type": "markdown",
   "metadata": {
    "id": "_4NA2x5r9c4l"
   },
   "source": [
    "\n",
    "<center>\n",
    "  <div style=\"text-align:center\">\n",
    "    <a href=https://github.com/juarodriguezfr \" target=\"_blank\">Judol Alejandro Rodríguez Franco</a><br/>\n",
    "    <em>Universidad Nacional De Colombia</em><br/>\n",
    "    Observatorio Astronómico Nacional<br/>\n",
    "    Facultad de Ciencias Físicas<br/>\n",
    "    <code>(juarodriguezfr@unal.edu.co)</code><br/><br/>\n",
    "</center>\n"
   ]
  },
  {
   "cell_type": "markdown",
   "metadata": {},
   "source": [
    "### <span style=\"color:blue;\">Cuaderno 2: Clase para estadísticas descriptivas y visualización </span>"
   ]
  },
  {
   "cell_type": "code",
   "execution_count": 1,
   "metadata": {
    "tags": []
   },
   "outputs": [],
   "source": [
    "import pandas as pd\n",
    "\n",
    "file_path = \"https://github.com/AprendizajeProfundo/Diplomado-Avanzado/raw/c01c908a0388a58b45cac707cb716438197a2d88/M%C3%B3dulo%2011%20-%20Mapas%20Auto%20Organizados/Datos/iris.csv\"\n",
    "df = pd.read_csv(file_path)"
   ]
  },
  {
   "cell_type": "markdown",
   "metadata": {
    "id": "hS5tN0d3C094"
   },
   "source": [
    "3. **Escriba una clase con las siguientes funcionalidades:**\n",
    "\n",
    "  3.1 Al instanciar un objeto, lee un conjunto de datos numéricos. Por ejemplo puede usar el mismo conjunto de datos iris.csv. Instancie los datos en un dataframe de Pandas.\n",
    "\n",
    "  ```python\n",
    "  class DataAnalyzer:\n",
    "    def __init__(self, file_path):\n",
    "        self.data = pd.read_csv(file_path)\n",
    "  ```\n",
    "\n",
    "  3.2 Implemente un método que entregue los nombre de las variables disponibles.\n",
    "\n",
    "  ```python\n",
    "    def get_variable_names(self):\n",
    "        return list(self.data.columns)\n",
    "  ```\n",
    "\n",
    "  3.3 Implemente un método que reciba el nombre de una variable disponible dentro del objeto (en el dataframe) y regrese: sus estadísticas básicas: media, mediana, desviación, percentiles q25, q50, q75 y dibuje un histograma de la distribución de la variable.\n",
    "\n",
    "  ```python\n",
    "    def describe_variable(self, variable_name):\n",
    "        if variable_name in self.data.columns:\n",
    "            variable_data = self.data[variable_name]\n",
    "            stats = variable_data.describe()\n",
    "            median = variable_data.median()\n",
    "            percentiles = variable_data.quantile([0.25, 0.50, 0.75])\n",
    "\n",
    "            print(f\"Variable: {variable_name}\")\n",
    "            print(f\"Media: {stats['mean']}\")\n",
    "            print(f\"Mediana: {median}\")\n",
    "            print(f\"Desviación Estándar: {stats['std']}\")\n",
    "            print(f\"Percentil 25: {percentiles[0.25]}\")\n",
    "            print(f\"Percentil 50: {percentiles[0.50]}\")\n",
    "            print(f\"Percentil 75: {percentiles[0.75]}\")\n",
    "\n",
    "            plt.hist(variable_data, bins=10)\n",
    "            plt.title(f\"Distribución de {variable_name}\")\n",
    "            plt.xlabel(variable_name)\n",
    "            plt.ylabel(\"Frecuencia\")\n",
    "            plt.show()\n",
    "        else:\n",
    "            print(f\"Variable {variable_name} no encontrada en el conjunto de datos.\")\n",
    "  ```"
   ]
  },
  {
   "cell_type": "code",
   "execution_count": 2,
   "metadata": {
    "id": "BmE4aLdEFqEc",
    "tags": []
   },
   "outputs": [],
   "source": [
    "import matplotlib.pyplot as plt\n",
    "\n",
    "class DataAnalyzer:\n",
    "    def __init__(self, file_path):\n",
    "        self.data = pd.read_csv(file_path)\n",
    "\n",
    "    def get_variable_names(self):\n",
    "        return list(self.data.columns)\n",
    "\n",
    "    def describe_variable(self, variable_name):\n",
    "        if variable_name in self.data.columns:\n",
    "            variable_data = self.data[variable_name]\n",
    "            stats = variable_data.describe()\n",
    "            median = variable_data.median()\n",
    "            percentiles = variable_data.quantile([0.25, 0.50, 0.75])\n",
    "\n",
    "            print(f\"Variable: {variable_name}\")\n",
    "            print(f\"Media: {stats['mean']}\")\n",
    "            print(f\"Mediana: {median}\")\n",
    "            print(f\"Desviación Estándar: {stats['std']}\")\n",
    "            print(f\"Percentil 25: {percentiles[0.25]}\")\n",
    "            print(f\"Percentil 50: {percentiles[0.50]}\")\n",
    "            print(f\"Percentil 75: {percentiles[0.75]}\")\n",
    "\n",
    "            plt.hist(variable_data, bins=10)\n",
    "            plt.title(f\"Distribución de {variable_name}\")\n",
    "            plt.xlabel(variable_name)\n",
    "            plt.ylabel(\"Frecuencia\")\n",
    "            plt.show()\n",
    "        else:\n",
    "            print(f\"Variable {variable_name} no encontrada en el conjunto de datos.\")\n"
   ]
  },
  {
   "cell_type": "markdown",
   "metadata": {
    "id": "9DdUoqQtDbax"
   },
   "source": [
    "Probamos la nueva clase:"
   ]
  },
  {
   "cell_type": "code",
   "execution_count": 3,
   "metadata": {
    "colab": {
     "base_uri": "https://localhost:8080/",
     "height": 611
    },
    "id": "GT7kzvIdFHKg",
    "outputId": "a98f0b40-dbd8-44ed-fc35-0721a23ec11b",
    "tags": []
   },
   "outputs": [
    {
     "name": "stdout",
     "output_type": "stream",
     "text": [
      "Variables disponibles: ['sepal.length', 'sepal.width', 'petal.length', 'petal.width', 'variety']\n",
      "Variable: sepal.length\n",
      "Media: 5.843333333333334\n",
      "Mediana: 5.8\n",
      "Desviación Estándar: 0.8280661279778629\n",
      "Percentil 25: 5.1\n",
      "Percentil 50: 5.8\n",
      "Percentil 75: 6.4\n"
     ]
    },
    {
     "data": {
      "image/png": "[encoded data removed]",
      "text/plain": [
       "<Figure size 640x480 with 1 Axes>"
      ]
     },
     "metadata": {},
     "output_type": "display_data"
    }
   ],
   "source": [
    "# Ejemplo: Prueba de la clase con la variable sepal.length\n",
    "if __name__ == \"__main__\":\n",
    "    data_analyzer = DataAnalyzer(file_path)\n",
    "\n",
    "    variable_names = data_analyzer.get_variable_names()\n",
    "    print(\"Variables disponibles:\", variable_names)\n",
    "\n",
    "    variable_to_analyze = \"sepal.length\"\n",
    "    data_analyzer.describe_variable(variable_to_analyze)"
   ]
  },
  {
   "cell_type": "code",
   "execution_count": 7,
   "metadata": {
    "tags": []
   },
   "outputs": [
    {
     "name": "stdout",
     "output_type": "stream",
     "text": [
      "Variables disponibles: ['sepal.length', 'sepal.width', 'petal.length', 'petal.width', 'variety']\n",
      "Variable: petal.width\n",
      "Media: 1.1993333333333336\n",
      "Mediana: 1.3\n",
      "Desviación Estándar: 0.7622376689603465\n",
      "Percentil 25: 0.3\n",
      "Percentil 50: 1.3\n",
      "Percentil 75: 1.8\n"
     ]
    },
    {
     "data": {
      "image/png": "[encoded data removed]",
      "text/plain": [
       "<Figure size 640x480 with 1 Axes>"
      ]
     },
     "metadata": {},
     "output_type": "display_data"
    }
   ],
   "source": [
    "# Ejemplo: Prueba de la clase con la variable petal.width\n",
    "if __name__ == \"__main__\":\n",
    "    data_analyzer = DataAnalyzer(file_path)\n",
    "\n",
    "    variable_names = data_analyzer.get_variable_names()\n",
    "    print(\"Variables disponibles:\", variable_names)\n",
    "\n",
    "    variable_to_analyze = \"petal.width\"\n",
    "    data_analyzer.describe_variable(variable_to_analyze)"
   ]
  }
 ],
 "metadata": {
  "colab": {
   "provenance": []
  },
  "kernelspec": {
   "display_name": "Python 3 (ipykernel)",
   "language": "python",
   "name": "python3"
  },
  "language_info": {
   "codemirror_mode": {
    "name": "ipython",
    "version": 3
   },
   "file_extension": ".py",
   "mimetype": "text/x-python",
   "name": "python",
   "nbconvert_exporter": "python",
   "pygments_lexer": "ipython3",
   "version": "3.11.4"
  }
 },
 "nbformat": 4,
 "nbformat_minor": 4
}
